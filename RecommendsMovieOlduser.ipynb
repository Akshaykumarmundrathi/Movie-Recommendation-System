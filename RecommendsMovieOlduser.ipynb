{
  "cells": [
    {
      "cell_type": "code",
      "execution_count": 1,
      "metadata": {
        "id": "TiSP-Th1xetk"
      },
      "outputs": [
        {
          "ename": "ModuleNotFoundError",
          "evalue": "No module named 'networkx'",
          "output_type": "error",
          "traceback": [
            "\u001b[31m---------------------------------------------------------------------------\u001b[39m",
            "\u001b[31mModuleNotFoundError\u001b[39m                       Traceback (most recent call last)",
            "\u001b[36mCell\u001b[39m\u001b[36m \u001b[39m\u001b[32mIn[1]\u001b[39m\u001b[32m, line 5\u001b[39m\n\u001b[32m      3\u001b[39m \u001b[38;5;28;01mimport\u001b[39;00m\u001b[38;5;250m \u001b[39m\u001b[34;01mpandas\u001b[39;00m\u001b[38;5;250m \u001b[39m\u001b[38;5;28;01mas\u001b[39;00m\u001b[38;5;250m \u001b[39m\u001b[34;01mpd\u001b[39;00m\n\u001b[32m      4\u001b[39m \u001b[38;5;28;01mimport\u001b[39;00m\u001b[38;5;250m \u001b[39m\u001b[34;01mmatplotlib\u001b[39;00m\u001b[34;01m.\u001b[39;00m\u001b[34;01mpyplot\u001b[39;00m\u001b[38;5;250m \u001b[39m\u001b[38;5;28;01mas\u001b[39;00m\u001b[38;5;250m \u001b[39m\u001b[34;01mplt\u001b[39;00m\n\u001b[32m----> \u001b[39m\u001b[32m5\u001b[39m \u001b[38;5;28;01mimport\u001b[39;00m\u001b[38;5;250m \u001b[39m\u001b[34;01mnetworkx\u001b[39;00m\u001b[38;5;250m \u001b[39m\u001b[38;5;28;01mas\u001b[39;00m\u001b[38;5;250m \u001b[39m\u001b[34;01mnx\u001b[39;00m\n\u001b[32m      6\u001b[39m \u001b[38;5;28;01mimport\u001b[39;00m\u001b[38;5;250m \u001b[39m\u001b[34;01mrandom\u001b[39;00m\n",
            "\u001b[31mModuleNotFoundError\u001b[39m: No module named 'networkx'"
          ]
        }
      ],
      "source": [
        "# importing libraries for the following code to run::\n",
        "\n",
        "import pandas as pd\n",
        "import matplotlib.pyplot as plt\n",
        "import networkx as nx\n",
        "import random"
      ]
    },
    {
      "cell_type": "markdown",
      "metadata": {
        "id": "yY0dRz3tzFP-"
      },
      "source": [
        "Data Preprocessing"
      ]
    },
    {
      "cell_type": "code",
      "execution_count": null,
      "metadata": {
        "colab": {
          "base_uri": "https://localhost:8080/"
        },
        "id": "sQ_Ayu4yTGbY",
        "outputId": "9cbde8fc-c4b1-4ccf-a597-e78e9935246d"
      },
      "outputs": [
        {
          "data": {
            "text/plain": [
              "(   user_id  item_id  rating  timestamp\n",
              " 0      196      242       3  881250949\n",
              " 1      186      302       3  891717742\n",
              " 2       22      377       1  878887116\n",
              " 3      244       51       2  880606923\n",
              " 4      166      346       1  886397596,\n",
              "         genre  genre_id\n",
              " 0     unknown         0\n",
              " 1      Action         1\n",
              " 2   Adventure         2\n",
              " 3   Animation         3\n",
              " 4  Children's         4,\n",
              "    movie_id        movie_title release_date  video_release_date  \\\n",
              " 0         1   Toy Story (1995)  01-Jan-1995                 NaN   \n",
              " 1         2   GoldenEye (1995)  01-Jan-1995                 NaN   \n",
              " 2         3  Four Rooms (1995)  01-Jan-1995                 NaN   \n",
              " 3         4  Get Shorty (1995)  01-Jan-1995                 NaN   \n",
              " 4         5     Copycat (1995)  01-Jan-1995                 NaN   \n",
              " \n",
              "                                             IMDb_URL  unknown  Action  \\\n",
              " 0  http://us.imdb.com/M/title-exact?Toy%20Story%2...        0       0   \n",
              " 1  http://us.imdb.com/M/title-exact?GoldenEye%20(...        0       1   \n",
              " 2  http://us.imdb.com/M/title-exact?Four%20Rooms%...        0       0   \n",
              " 3  http://us.imdb.com/M/title-exact?Get%20Shorty%...        0       1   \n",
              " 4  http://us.imdb.com/M/title-exact?Copycat%20(1995)        0       0   \n",
              " \n",
              "    Adventure  Animation  Children's  ...  Fantasy  Film-Noir  Horror  Musical  \\\n",
              " 0          0          1           1  ...        0          0       0        0   \n",
              " 1          1          0           0  ...        0          0       0        0   \n",
              " 2          0          0           0  ...        0          0       0        0   \n",
              " 3          0          0           0  ...        0          0       0        0   \n",
              " 4          0          0           0  ...        0          0       0        0   \n",
              " \n",
              "    Mystery  Romance  Sci-Fi  Thriller  War  Western  \n",
              " 0        0        0       0         0    0        0  \n",
              " 1        0        0       0         1    0        0  \n",
              " 2        0        0       0         1    0        0  \n",
              " 3        0        0       0         0    0        0  \n",
              " 4        0        0       0         1    0        0  \n",
              " \n",
              " [5 rows x 24 columns],\n",
              "    user_id  age gender  occupation zip_code\n",
              " 0        1   24      M  technician    85711\n",
              " 1        2   53      F       other    94043\n",
              " 2        3   23      M      writer    32067\n",
              " 3        4   24      M  technician    43537\n",
              " 4        5   33      F       other    15213)"
            ]
          },
          "execution_count": 14,
          "metadata": {},
          "output_type": "execute_result"
        }
      ],
      "source": [
        "# Load u.data\n",
        "data_columns = ['user_id', 'item_id', 'rating', 'timestamp']\n",
        "data = pd.read_csv('u.data', sep='\\t', names=data_columns)\n",
        "\n",
        "# Load u.genre\n",
        "genre_columns = ['genre', 'genre_id']\n",
        "genres = pd.read_csv('u.genre', sep='|', names=genre_columns)\n",
        "\n",
        "# Load u.item\n",
        "item_columns = ['movie_id', 'movie_title', 'release_date', 'video_release_date', 'IMDb_URL'] + genres['genre'].tolist()\n",
        "items = pd.read_csv('u.item', sep='|', names=item_columns, encoding='latin-1')\n",
        "\n",
        "# Load u.user\n",
        "user_columns = ['user_id', 'age', 'gender', 'occupation', 'zip_code']\n",
        "users = pd.read_csv('u.user', sep='|', names=user_columns)\n",
        "\n",
        "data.head(), genres.head(), items.head(), users.head()"
      ]
    },
    {
      "cell_type": "code",
      "execution_count": null,
      "metadata": {
        "colab": {
          "base_uri": "https://localhost:8080/"
        },
        "id": "ssWi-NehTfhJ",
        "outputId": "e21a8301-e2e9-4430-d9e2-8fbf8e9f91a2"
      },
      "outputs": [
        {
          "data": {
            "text/plain": [
              "(user_id      0\n",
              " item_id      0\n",
              " rating       0\n",
              " timestamp    0\n",
              " dtype: int64,\n",
              " genre       0\n",
              " genre_id    0\n",
              " dtype: int64,\n",
              " movie_id                 0\n",
              " movie_title              0\n",
              " release_date             1\n",
              " video_release_date    1682\n",
              " IMDb_URL                 3\n",
              " unknown                  0\n",
              " Action                   0\n",
              " Adventure                0\n",
              " Animation                0\n",
              " Children's               0\n",
              " Comedy                   0\n",
              " Crime                    0\n",
              " Documentary              0\n",
              " Drama                    0\n",
              " Fantasy                  0\n",
              " Film-Noir                0\n",
              " Horror                   0\n",
              " Musical                  0\n",
              " Mystery                  0\n",
              " Romance                  0\n",
              " Sci-Fi                   0\n",
              " Thriller                 0\n",
              " War                      0\n",
              " Western                  0\n",
              " dtype: int64,\n",
              " user_id       0\n",
              " age           0\n",
              " gender        0\n",
              " occupation    0\n",
              " zip_code      0\n",
              " dtype: int64)"
            ]
          },
          "execution_count": 15,
          "metadata": {},
          "output_type": "execute_result"
        }
      ],
      "source": [
        "# Check for missing values in each dataframe\n",
        "missing_values_data = data.isnull().sum()\n",
        "missing_values_genres = genres.isnull().sum()\n",
        "missing_values_items = items.isnull().sum()\n",
        "missing_values_users = users.isnull().sum()\n",
        "\n",
        "missing_values_data, missing_values_genres, missing_values_items, missing_values_users"
      ]
    },
    {
      "cell_type": "markdown",
      "metadata": {
        "id": "i3Xj78IVtuPg"
      },
      "source": [
        "Create a tripartite graph of User – Movie – Genre structure:\n",
        "\n",
        "Step 1: Create a graph\n",
        "G using NetworkX\n",
        "\n",
        "Step 2: Add nodes for each user, movie, and genre\n",
        "\n",
        "Step 3: Add edges between users and movies to represent the ratings\n",
        "\n",
        "Step 4: Add edges between movies and genres to represent the movie's genres"
      ]
    },
    {
      "cell_type": "code",
      "execution_count": null,
      "metadata": {
        "colab": {
          "base_uri": "https://localhost:8080/"
        },
        "id": "rjqB0ddwSlOS",
        "outputId": "eae0e44b-15ca-4adf-b13e-07eb9fc4cd7e"
      },
      "outputs": [
        {
          "data": {
            "text/plain": [
              "(1701, {'genre', 'movie'})"
            ]
          },
          "execution_count": 16,
          "metadata": {},
          "output_type": "execute_result"
        }
      ],
      "source": [
        "# Step 1: Create a graph G using NetworkX\n",
        "G = nx.Graph()\n",
        "\n",
        "# Step 2: Add nodes for each user, movie, and genre\n",
        "G.add_nodes_from(data['user_id'], bipartite=0, type='user')\n",
        "G.add_nodes_from(items['movie_id'], bipartite=1, type='movie')\n",
        "G.add_nodes_from(genres['genre'], bipartite=2, type='genre')\n",
        "\n",
        "# Check the number of nodes and node types\n",
        "num_nodes = G.number_of_nodes()\n",
        "node_types = set(nx.get_node_attributes(G, 'type').values())\n",
        "\n",
        "num_nodes, node_types"
      ]
    },
    {
      "cell_type": "code",
      "execution_count": null,
      "metadata": {
        "colab": {
          "base_uri": "https://localhost:8080/"
        },
        "id": "xRfs0VX-SthE",
        "outputId": "df35f6c5-4fba-416e-a775-a5501f04ba08"
      },
      "outputs": [
        {
          "data": {
            "text/plain": [
              "(1701, {'genre', 'movie', 'user'})"
            ]
          },
          "execution_count": 17,
          "metadata": {},
          "output_type": "execute_result"
        }
      ],
      "source": [
        "# Step 2: Add nodes for each user, movie, and genre\n",
        "G.add_nodes_from(users['user_id'], bipartite=0, type='user')\n",
        "\n",
        "# Check the number of nodes and node types again\n",
        "num_nodes = G.number_of_nodes()\n",
        "node_types = set(nx.get_node_attributes(G, 'type').values())\n",
        "\n",
        "num_nodes, node_types"
      ]
    },
    {
      "cell_type": "code",
      "execution_count": null,
      "metadata": {
        "colab": {
          "base_uri": "https://localhost:8080/"
        },
        "id": "pt5dYUMfToqk",
        "outputId": "28f6cdfc-a34a-46d6-d7de-5e6c03662d3d"
      },
      "outputs": [
        {
          "data": {
            "text/plain": [
              "97819"
            ]
          },
          "execution_count": 18,
          "metadata": {},
          "output_type": "execute_result"
        }
      ],
      "source": [
        "# Step 3: Add edges between users and movies to represent the ratings\n",
        "for index, row in data.iterrows():\n",
        "    G.add_edge(row['user_id'], row['item_id'], weight=row['rating'])\n",
        "\n",
        "# Step 4: Add edges between movies and genres to represent the movie's genres\n",
        "genre_columns = ['Action', 'Adventure', 'Animation', 'Children\\'s', 'Comedy', 'Crime',\n",
        "                 'Documentary', 'Drama', 'Fantasy', 'Film-Noir', 'Horror', 'Musical',\n",
        "                 'Mystery', 'Romance', 'Sci-Fi', 'Thriller', 'War', 'Western']\n",
        "for index, row in items.iterrows():\n",
        "    movie_id = row['movie_id']\n",
        "    for genre in genre_columns:\n",
        "        if row[genre] == 1:\n",
        "            G.add_edge(movie_id, genre)\n",
        "\n",
        "# Check the number of edges\n",
        "num_edges = G.number_of_edges()\n",
        "num_edges"
      ]
    },
    {
      "cell_type": "markdown",
      "metadata": {
        "id": "5i6bR4TXurED"
      },
      "source": [
        "Implement the Personalized PageRank (PPR) algorithm on the structure\n",
        "\n",
        "Top k Movie Recommendations for a User"
      ]
    },
    {
      "cell_type": "code",
      "execution_count": null,
      "metadata": {
        "colab": {
          "base_uri": "https://localhost:8080/"
        },
        "id": "TQLxPPpWUBdX",
        "outputId": "b7d939b1-9935-4e55-99a9-54b439d572ea"
      },
      "outputs": [
        {
          "data": {
            "text/plain": [
              "[(1016, 0.0006263744406764624),\n",
              " (1028, 0.0006063227186891041),\n",
              " (1047, 0.0005067736626975558),\n",
              " (1012, 0.00047962781670136533),\n",
              " (1039, 0.0004582471170211586),\n",
              " (1014, 0.0004006297641761984),\n",
              " (1011, 0.0003930875760015077),\n",
              " (969, 0.00036782566287747346),\n",
              " (1101, 0.00034464639826166794),\n",
              " (993, 0.0003236985548330128)]"
            ]
          },
          "execution_count": 19,
          "metadata": {},
          "output_type": "execute_result"
        }
      ],
      "source": [
        "# Import the pagerank algorithm from networkx\n",
        "from networkx.algorithms.link_analysis.pagerank_alg import pagerank\n",
        "\n",
        "# Function to calculate personalized pagerank for a user\n",
        "def personalized_pagerank_for_user(G, user_id):\n",
        "    # Define the personalized vector for the user\n",
        "    personalization = {node: 0 for node in G.nodes()}\n",
        "    for neighbor in G.neighbors(user_id):\n",
        "        personalization[neighbor] = 1\n",
        "\n",
        "    # Normalize the personalized vector\n",
        "    total = sum(personalization.values())\n",
        "    personalization = {k: v / total for k, v in personalization.items()}\n",
        "\n",
        "    # Calculate personalized pagerank\n",
        "    pagerank_scores = pagerank(G, personalization=personalization)\n",
        "    return pagerank_scores\n",
        "\n",
        "# Test the personalized pagerank function for a user\n",
        "user_id = 1\n",
        "pagerank_scores = personalized_pagerank_for_user(G, user_id)\n",
        "\n",
        "# Show top 10 movies for the user based on pagerank\n",
        "sorted_movies = sorted(pagerank_scores.items(), key=lambda x: x[1], reverse=True)\n",
        "top_10_movies = [item for item in sorted_movies if G.nodes[item[0]]['type'] == 'movie'][:10]\n",
        "top_10_movies"
      ]
    },
    {
      "cell_type": "markdown",
      "metadata": {
        "id": "Znwn22ri0KP-"
      },
      "source": [
        "a. **Justification for the Graph Type (Directed/Undirected):**\n",
        "   - In this implementation, an undirected graph was used. However, a directed graph would be more appropriate because the relationships between users and movies are not symmetrical. For example, a user rates a movie, but a movie doesn't rate a user. This asymmetry is better represented by directed edges, where the direction indicates the action of rating.\n",
        "\n",
        "b. **Justification for the Personalization Factors (User/Movie/Genre/Combinations):**\n",
        "   - The personalization factor was based on the movies rated by the user. This is a good choice because it directly reflects the user's preferences. However, we could also incorporate other factors such as genres or combinations of movies and genres to provide more personalized recommendations. For example, if a user has rated many movies of a particular genre highly, then other movies of that genre could be given a higher weight in the personalized PageRank algorithm.\n",
        "\n",
        "c. **Justification for the Choice of Data Structure for Implementation (Data in File vs RAM):**\n",
        "   - The data was read from files and then stored in RAM as pandas dataframes. This is a common approach because it allows for easy manipulation and analysis of the data using pandas functions."
      ]
    },
    {
      "cell_type": "markdown",
      "metadata": {
        "id": "M6ietrKNvAW7"
      },
      "source": [
        "Evaluation: Using the ranked nodes with PPR algorithm, write a program to extract the\n",
        "top ‘k’ movie recommendations for users in the evaluation data."
      ]
    },
    {
      "cell_type": "code",
      "execution_count": null,
      "metadata": {
        "colab": {
          "base_uri": "https://localhost:8080/"
        },
        "id": "MKSqk6YoYgmX",
        "outputId": "2a3998ab-27f0-475b-8eef-0ada82cb73b5"
      },
      "outputs": [
        {
          "data": {
            "text/plain": [
              "[(1016, 0.0006263744406764624),\n",
              " (1028, 0.0006063227186891041),\n",
              " (1047, 0.0005067736626975558),\n",
              " (1012, 0.00047962781670136533),\n",
              " (1039, 0.0004582471170211586),\n",
              " (1014, 0.0004006297641761984),\n",
              " (1011, 0.0003930875760015077),\n",
              " (969, 0.00036782566287747346),\n",
              " (1101, 0.00034464639826166794),\n",
              " (993, 0.0003236985548330128)]"
            ]
          },
          "execution_count": 20,
          "metadata": {},
          "output_type": "execute_result"
        }
      ],
      "source": [
        "# Test the personalized pagerank function for a user\n",
        "user_id = 1\n",
        "pagerank_scores = personalized_pagerank_for_user(G, user_id)\n",
        "\n",
        "# Show top 10 movies for the user based on pagerank\n",
        "sorted_movies = sorted(pagerank_scores.items(), key=lambda x: x[1], reverse=True)\n",
        "top_10_movies = [item for item in sorted_movies if G.nodes[item[0]]['type'] == 'movie'][:10]\n",
        "top_10_movies"
      ]
    },
    {
      "cell_type": "code",
      "execution_count": null,
      "metadata": {
        "colab": {
          "base_uri": "https://localhost:8080/"
        },
        "id": "51p0AUbaUhIN",
        "outputId": "227edc81-7271-4090-8d7f-df79e224175d"
      },
      "outputs": [
        {
          "data": {
            "text/plain": [
              "[('Con Air (1997)', 0.0006263744406764624),\n",
              " ('Grumpier Old Men (1995)', 0.0006063227186891041),\n",
              " ('Multiplicity (1996)', 0.0005067736626975558),\n",
              " ('Private Parts (1997)', 0.00047962781670136533),\n",
              " ('Hamlet (1996)', 0.0004582471170211586),\n",
              " (\"Romy and Michele's High School Reunion (1997)\", 0.0004006297641761984),\n",
              " ('2 Days in the Valley (1996)', 0.0003930875760015077),\n",
              " ('Winnie the Pooh and the Blustery Day (1968)', 0.00036782566287747346),\n",
              " ('Six Degrees of Separation (1993)', 0.00034464639826166794),\n",
              " ('Hercules (1997)', 0.0003236985548330128)]"
            ]
          },
          "execution_count": 21,
          "metadata": {},
          "output_type": "execute_result"
        }
      ],
      "source": [
        "# Convert movie IDs to movie titles\n",
        "top_10_movies_titles = [(items[items['movie_id'] == movie_id]['movie_title'].values[0], score) for movie_id, score in top_10_movies]\n",
        "top_10_movies_titles\n"
      ]
    },
    {
      "cell_type": "markdown",
      "metadata": {
        "id": "5ZWNp-Z3wxmt"
      },
      "source": [
        "Evaluation Metrics: Precision and Recall at\n",
        "k\n",
        "\n",
        "a. Precision@k = No. of relevant items in top-k predictions/k\n",
        "\n",
        "b. Recall@k = No. of relevant items in top-k predictions/No. of actual relevant items\n",
        "\n",
        "c. NDCG@k is mainly used to factor the ranking in our recommendation predictions."
      ]
    },
    {
      "cell_type": "code",
      "execution_count": null,
      "metadata": {
        "id": "LcUq56v-U1Je"
      },
      "outputs": [],
      "source": [
        "# Function to calculate precision at k\n",
        "def precision_at_k(recommended_items, relevant_items, k):\n",
        "    recommended_items_at_k = recommended_items[:k]\n",
        "    relevant_items_at_k = [item for item in recommended_items_at_k if item in relevant_items]\n",
        "    precision = len(relevant_items_at_k) / k\n",
        "    return precision\n",
        "\n",
        "# Function to calculate recall at k\n",
        "def recall_at_k(recommended_items, relevant_items, k):\n",
        "    if not relevant_items:\n",
        "        return 0\n",
        "    recommended_items_at_k = recommended_items[:k]\n",
        "    relevant_items_at_k = [item for item in recommended_items_at_k if item in relevant_items]\n",
        "    recall = len(relevant_items_at_k) / len(relevant_items)\n",
        "    return recall"
      ]
    },
    {
      "cell_type": "markdown",
      "metadata": {
        "id": "h_u9sVwc1lAt"
      },
      "source": [
        "Evaluation of Personalized PageRank Algorithm"
      ]
    },
    {
      "cell_type": "code",
      "execution_count": null,
      "metadata": {
        "colab": {
          "base_uri": "https://localhost:8080/"
        },
        "id": "lW28TbXRX2vZ",
        "outputId": "1cbcd9e1-570d-418b-a668-7c9ab607248c"
      },
      "outputs": [
        {
          "data": {
            "text/plain": [
              "([0.608, 0.46799999999999997, 0.41199999999999987, 0.36999999999999994],\n",
              " [0.5603977429094698,\n",
              "  0.6475483577976178,\n",
              "  0.7107618822679518,\n",
              "  0.7537491117142763])"
            ]
          },
          "execution_count": 23,
          "metadata": {},
          "output_type": "execute_result"
        }
      ],
      "source": [
        "# Function to evaluate personalized pagerank algorithm with sampling\n",
        "def evaluate_personalized_pagerank_with_sampling(G, k_values, sample_size):\n",
        "    precision_values = []\n",
        "    recall_values = []\n",
        "    user_ids = random.sample(list(users['user_id']), sample_size)\n",
        "    for user_id in user_ids:\n",
        "        # Get relevant items for the user\n",
        "        relevant_items = [item_id for item_id in G.neighbors(user_id) if G.nodes[item_id]['type'] == 'movie']\n",
        "        # Get recommended items for the user based on personalized pagerank\n",
        "        pagerank_scores = personalized_pagerank_for_user(G, user_id)\n",
        "        recommended_items = [item for item, score in sorted(pagerank_scores.items(), key=lambda x: x[1], reverse=True) if G.nodes[item]['type'] == 'movie']\n",
        "        for k in k_values:\n",
        "            precision = precision_at_k(recommended_items, relevant_items, k)\n",
        "            recall = recall_at_k(recommended_items, relevant_items, k)\n",
        "            precision_values.append(precision)\n",
        "            recall_values.append(recall)\n",
        "    # Calculate average precision and recall for each k value\n",
        "    avg_precision_values = [sum(precision_values[i::len(k_values)]) / sample_size for i in range(len(k_values))]\n",
        "    avg_recall_values = [sum(recall_values[i::len(k_values)]) / sample_size for i in range(len(k_values))]\n",
        "    return avg_precision_values, avg_recall_values\n",
        "\n",
        "# Test the evaluation function with sampling\n",
        "sample_size = 50\n",
        "k_values = [5, 10, 15, 20]\n",
        "avg_precision_values_sampled, avg_recall_values_sampled = evaluate_personalized_pagerank_with_sampling(G, k_values, sample_size)\n",
        "avg_precision_values_sampled, avg_recall_values_sampled\n"
      ]
    },
    {
      "cell_type": "markdown",
      "metadata": {
        "id": "dCW5LZbr2G4H"
      },
      "source": [
        "After sampling 50 users and evaluating the personalized PageRank algorithm for different values of\n",
        "k, we obtained the following average precision and recall values:\n",
        "\n",
        "Precision at\n",
        "k=5:\n",
        "0.572\n",
        "0.572\n",
        "\n",
        "Recall at\n",
        "k=5:\n",
        "0.545\n",
        "0.545\n",
        "\n",
        "Precision at\n",
        "k=10:\n",
        "0.426\n",
        "0.426\n",
        "\n",
        "Recall at\n",
        "k=10:\n",
        "0.625\n",
        "0.625\n",
        "\n",
        "Precision at\n",
        "k=15:\n",
        "0.356\n",
        "0.356\n",
        "\n",
        "Recall at\n",
        "k=15:\n",
        "0.668\n",
        "0.668\n",
        "\n",
        "Precision at\n",
        "k=20:\n",
        "0.318\n",
        "0.318\n",
        "\n",
        "Recall at\n",
        "k=20:\n",
        "0.703\n",
        "0.703\n",
        "\n",
        "We can see that as\n",
        "k increases, the precision tends to decrease, while the recall tends to increase. This is a common trend in recommendation systems, as increasing the number of recommended items (\n",
        "k) tends to capture more relevant items, thereby increasing recall. However, this also increases the chances of including irrelevant items, thereby decreasing precision."
      ]
    },
    {
      "cell_type": "markdown",
      "metadata": {
        "id": "yYGFg0Arzkdo"
      },
      "source": [
        "\n",
        "a. Justification of\n",
        "β :\n",
        "- In this implementation, the default value of\n",
        "β was used, which is typically set to 0.85. This value has been shown to provide a good balance between the importance of the starting node and the importance of the neighboring nodes in the PageRank algorithm. PageRank scores for different values of\n",
        "β would show how the scores change as the importance of the starting node increases or decreases.\n",
        "\n",
        "b. Justification of the Number of Program Iterations for Convergence:\n",
        "- The number of iterations for convergence should be chosen such that the PageRank scores stabilize and do not change significantly with additional iterations.\n",
        "\n",
        "c. Justification of\n",
        "k using Plots:\n",
        "- The choice of\n",
        "k depends on the desired balance between precision and recall. As shown in the previous responses, as\n",
        "k increases, precision tends to decrease while recall tends to increase. A plot of precision and recall for different values of\n",
        "k would show this trade-off and help justify the choice of\n",
        "k."
      ]
    },
    {
      "cell_type": "code",
      "execution_count": null,
      "metadata": {
        "colab": {
          "base_uri": "https://localhost:8080/",
          "height": 487
        },
        "id": "zaAaVB6uaIOz",
        "outputId": "39f99d95-0865-4ff5-9f46-c0d68c316481"
      },
      "outputs": [
        {
          "data": {
            "image/png": "[encoded data removed]",
            "text/plain": [
              "<Figure size 1000x500 with 1 Axes>"
            ]
          },
          "metadata": {},
          "output_type": "display_data"
        }
      ],
      "source": [
        "# Values of k for which we want to calculate precision and recall\n",
        "k_values = [5, 10, 15, 20]\n",
        "\n",
        "# Average precision and recall values for each k\n",
        "avg_precision_values_sampled = [0.572, 0.426, 0.356, 0.318]\n",
        "avg_recall_values_sampled = [0.545, 0.625, 0.668, 0.703]\n",
        "\n",
        "# Plot precision and recall at k\n",
        "plt.figure(figsize=(10, 5))\n",
        "\n",
        "plt.plot(k_values, avg_precision_values_sampled, label='Precision')\n",
        "plt.plot(k_values, avg_recall_values_sampled, label='Recall')\n",
        "\n",
        "plt.xlabel('k')\n",
        "plt.ylabel('Value')\n",
        "plt.title('Precision and Recall at k')\n",
        "plt.legend()\n",
        "plt.grid(True)\n",
        "plt.show()\n"
      ]
    },
    {
      "cell_type": "markdown",
      "metadata": {
        "id": "iONN1foEaV-Y"
      },
      "source": [
        "Here is the plot for precision and recall at different values of\n",
        "k. This plot shows how precision and recall change as the value of\n",
        "k changes.\n",
        "\n",
        "From the plot, we can observe the following:\n",
        "\n",
        "As\n",
        "k increases, precision tends to decrease, while recall tends to increase.\n",
        "There is a trade-off between precision and recall: as we recommend more items (increase\n",
        "k), we are more likely to include relevant items (increasing recall), but we are also more likely to include irrelevant items (decreasing precision).\n",
        "This plot helps justify the choice of\n",
        "k based on the desired balance between precision and recall.​"
      ]
    }
  ],
  "metadata": {
    "colab": {
      "provenance": []
    },
    "kernelspec": {
      "display_name": "Python 3",
      "name": "python3"
    },
    "language_info": {
      "codemirror_mode": {
        "name": "ipython",
        "version": 3
      },
      "file_extension": ".py",
      "mimetype": "text/x-python",
      "name": "python",
      "nbconvert_exporter": "python",
      "pygments_lexer": "ipython3",
      "version": "3.11.9"
    }
  },
  "nbformat": 4,
  "nbformat_minor": 0
}
